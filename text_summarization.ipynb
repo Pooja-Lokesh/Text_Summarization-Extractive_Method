{
  "nbformat": 4,
  "nbformat_minor": 0,
  "metadata": {
    "colab": {
      "name": "text_summarization.ipynb",
      "provenance": []
    },
    "kernelspec": {
      "name": "python3",
      "display_name": "Python 3"
    }
  },
  "cells": [
    {
      "cell_type": "code",
      "metadata": {
        "id": "B3-W1p3tfPRn",
        "colab_type": "code",
        "colab": {}
      },
      "source": [
        "from sklearn.feature_extraction.text import TfidfVectorizer\n",
        "from spacy.lang.en import English\n",
        "import numpy as np"
      ],
      "execution_count": 1,
      "outputs": []
    },
    {
      "cell_type": "code",
      "metadata": {
        "id": "B5yq2WSHij5p",
        "colab_type": "code",
        "colab": {}
      },
      "source": [
        "nlp = English()\n",
        "nlp.add_pipe(nlp.create_pipe('sentencizer'))"
      ],
      "execution_count": 2,
      "outputs": []
    },
    {
      "cell_type": "code",
      "metadata": {
        "id": "OzNL1aXfiryC",
        "colab_type": "code",
        "colab": {}
      },
      "source": [
        "text_corpus = \"\"\"\n",
        "Become a consumer and spend 20% of your time familiarizing yourself within your chosen field.\n",
        "Painters show up at numerous art exhibits. Chefs eat at cutting-edge restaurants, visit farms, and travel to food shows. Songwriters are constantly listening to music, new and old.\n",
        "Imitate the style of great creatives in your field before you start adding your personal spin to your art.\n",
        "You may think that breakout success comes from breaking the pattern. In reality, it is only by following a pattern that you tap into the right level of novelty.\n",
        "Develop a creative community that consists of a mentor, collaborator, modern muse and prominent promoter.\n",
        "Studies show that building a community of people around us is essential to achieving world-class success...research demonstrated that an innovator’s network could predict prominence, productivity, and even the length of their career.\n",
        "Iterate your work by talking to customers and using data-drive processes to refine ideas and turn them into great pieces of work.\n",
        "The biggest secret to creating something your audience will love? Listen to them.\n",
        "\"\"\""
      ],
      "execution_count": 4,
      "outputs": []
    },
    {
      "cell_type": "code",
      "metadata": {
        "id": "9qukIJ6zjlG9",
        "colab_type": "code",
        "colab": {}
      },
      "source": [
        "doc = nlp(text_corpus.replace(\"\\n\", \"\"))\n",
        "sentences = [sent.string.strip() for sent in doc.sents]"
      ],
      "execution_count": 5,
      "outputs": []
    },
    {
      "cell_type": "code",
      "metadata": {
        "id": "vmFmBzBpjmEB",
        "colab_type": "code",
        "colab": {
          "base_uri": "https://localhost:8080/",
          "height": 77
        },
        "outputId": "0b2ad49b-1df1-40ef-843e-eccb30a99d2c"
      },
      "source": [
        "print(\"Senetence are: \\n\", sentences)"
      ],
      "execution_count": 6,
      "outputs": [
        {
          "output_type": "stream",
          "text": [
            "Senetence are: \n",
            " ['Become a consumer and spend 20% of your time familiarizing yourself within your chosen field.', 'Painters show up at numerous art exhibits.', 'Chefs eat at cutting-edge restaurants, visit farms, and travel to food shows.', 'Songwriters are constantly listening to music, new and old.', 'Imitate the style of great creatives in your field before you start adding your personal spin to your art.', 'You may think that breakout success comes from breaking the pattern.', 'In reality, it is only by following a pattern that you tap into the right level of novelty.', 'Develop a creative community that consists of a mentor, collaborator, modern muse and prominent promoter.', 'Studies show that building a community of people around us is essential to achieving world-class success...research demonstrated that an innovator’s network could predict prominence, productivity, and even the length of their career.', 'Iterate your work by talking to customers and using data-drive processes to refine ideas and turn them into great pieces of work.', 'The biggest secret to creating something your audience will love?', 'Listen to them.']\n"
          ],
          "name": "stdout"
        }
      ]
    },
    {
      "cell_type": "code",
      "metadata": {
        "id": "7JQp1yLnjp4b",
        "colab_type": "code",
        "colab": {}
      },
      "source": [
        "\n",
        "# Let's create an organizer which will store the sentence ordering to later reorganize the \n",
        "# scored sentences in their correct order\n",
        "sentence_organizer = {k:v for v,k in enumerate(sentences)}"
      ],
      "execution_count": 7,
      "outputs": []
    },
    {
      "cell_type": "code",
      "metadata": {
        "id": "f2FbjPV1jtUh",
        "colab_type": "code",
        "colab": {
          "base_uri": "https://localhost:8080/",
          "height": 77
        },
        "outputId": "e997fd0a-5a11-4380-e0d9-c5bdd54bd0e6"
      },
      "source": [
        "\n",
        "print(\"Our sentence organizer: \\n\", sentence_organizer)"
      ],
      "execution_count": 8,
      "outputs": [
        {
          "output_type": "stream",
          "text": [
            "Our sentence organizer: \n",
            " {'Become a consumer and spend 20% of your time familiarizing yourself within your chosen field.': 0, 'Painters show up at numerous art exhibits.': 1, 'Chefs eat at cutting-edge restaurants, visit farms, and travel to food shows.': 2, 'Songwriters are constantly listening to music, new and old.': 3, 'Imitate the style of great creatives in your field before you start adding your personal spin to your art.': 4, 'You may think that breakout success comes from breaking the pattern.': 5, 'In reality, it is only by following a pattern that you tap into the right level of novelty.': 6, 'Develop a creative community that consists of a mentor, collaborator, modern muse and prominent promoter.': 7, 'Studies show that building a community of people around us is essential to achieving world-class success...research demonstrated that an innovator’s network could predict prominence, productivity, and even the length of their career.': 8, 'Iterate your work by talking to customers and using data-drive processes to refine ideas and turn them into great pieces of work.': 9, 'The biggest secret to creating something your audience will love?': 10, 'Listen to them.': 11}\n"
          ],
          "name": "stdout"
        }
      ]
    },
    {
      "cell_type": "code",
      "metadata": {
        "id": "yc8VGGDsjvbM",
        "colab_type": "code",
        "colab": {}
      },
      "source": [
        "# Let's now create a tf-idf (Term frequnecy Inverse Document Frequency) model\n",
        "tf_idf_vectorizer = TfidfVectorizer(min_df=2,  max_features=None, \n",
        "                                    strip_accents='unicode', \n",
        "                                    analyzer='word',\n",
        "                                    token_pattern=r'\\w{1,}',\n",
        "                                    ngram_range=(1, 3), \n",
        "                                    use_idf=1,smooth_idf=1,\n",
        "                                    sublinear_tf=1,\n",
        "                                    stop_words = 'english')"
      ],
      "execution_count": 9,
      "outputs": []
    },
    {
      "cell_type": "code",
      "metadata": {
        "id": "d4pad9xojy0R",
        "colab_type": "code",
        "colab": {
          "base_uri": "https://localhost:8080/",
          "height": 157
        },
        "outputId": "5e32ccdb-152c-4985-81fa-6e39b51c02d3"
      },
      "source": [
        "# Passing our sentences treating each as one document to TF-IDF vectorizer\n",
        "tf_idf_vectorizer.fit(sentences)"
      ],
      "execution_count": 10,
      "outputs": [
        {
          "output_type": "execute_result",
          "data": {
            "text/plain": [
              "TfidfVectorizer(analyzer='word', binary=False, decode_error='strict',\n",
              "                dtype=<class 'numpy.float64'>, encoding='utf-8',\n",
              "                input='content', lowercase=True, max_df=1.0, max_features=None,\n",
              "                min_df=2, ngram_range=(1, 3), norm='l2', preprocessor=None,\n",
              "                smooth_idf=1, stop_words='english', strip_accents='unicode',\n",
              "                sublinear_tf=1, token_pattern='\\\\w{1,}', tokenizer=None,\n",
              "                use_idf=1, vocabulary=None)"
            ]
          },
          "metadata": {
            "tags": []
          },
          "execution_count": 10
        }
      ]
    },
    {
      "cell_type": "code",
      "metadata": {
        "id": "Wm8lCOVZj1iz",
        "colab_type": "code",
        "colab": {}
      },
      "source": [
        "# Transforming our sentences to TF-IDF vectors\n",
        "sentence_vectors = tf_idf_vectorizer.transform(sentences)"
      ],
      "execution_count": 11,
      "outputs": []
    },
    {
      "cell_type": "code",
      "metadata": {
        "id": "-Xa-m7P3j3kx",
        "colab_type": "code",
        "colab": {
          "base_uri": "https://localhost:8080/",
          "height": 37
        },
        "outputId": "fd3bf6b7-6ac3-4300-a8d5-344e2858cc24"
      },
      "source": [
        "# Getting sentence scores for each sentences\n",
        "sentence_scores = np.array(sentence_vectors.sum(axis=1)).ravel()\n",
        "\n",
        "# Sanity checkup\n",
        "print(len(sentences) == len(sentence_scores))"
      ],
      "execution_count": 12,
      "outputs": [
        {
          "output_type": "stream",
          "text": [
            "True\n"
          ],
          "name": "stdout"
        }
      ]
    },
    {
      "cell_type": "code",
      "metadata": {
        "id": "1qgUY0_rj6Mx",
        "colab_type": "code",
        "colab": {}
      },
      "source": [
        "# Getting top-n sentences\n",
        "N = 3\n",
        "top_n_sentences = [sentences[ind] for ind in np.argsort(sentence_scores, axis=0)[::-1][:N]]"
      ],
      "execution_count": 13,
      "outputs": []
    },
    {
      "cell_type": "code",
      "metadata": {
        "id": "0rsHFgI-j8ut",
        "colab_type": "code",
        "colab": {
          "base_uri": "https://localhost:8080/",
          "height": 137
        },
        "outputId": "feee398a-c2fb-43fa-c5bd-2e1e4ff65d9d"
      },
      "source": [
        "# Let's now do the sentence ordering using our prebaked sentence_organizer\n",
        "# Let's map the scored sentences with their indexes\n",
        "mapped_top_n_sentences = [(sentence,sentence_organizer[sentence]) for sentence in top_n_sentences]\n",
        "print(\"Our top_n_sentence with their index: \\n\")\n",
        "for element in mapped_top_n_sentences:\n",
        "    print(element)\n",
        "\n",
        "# Ordering our top-n sentences in their original ordering\n",
        "mapped_top_n_sentences = sorted(mapped_top_n_sentences, key = lambda x: x[1])\n",
        "ordered_scored_sentences = [element[0] for element in mapped_top_n_sentences]\n",
        "\n",
        "# Our final summary\n",
        "summary = \" \".join(ordered_scored_sentences)"
      ],
      "execution_count": 14,
      "outputs": [
        {
          "output_type": "stream",
          "text": [
            "Our top_n_sentence with their index: \n",
            "\n",
            "('Imitate the style of great creatives in your field before you start adding your personal spin to your art.', 4)\n",
            "('Studies show that building a community of people around us is essential to achieving world-class success...research demonstrated that an innovator’s network could predict prominence, productivity, and even the length of their career.', 8)\n",
            "('You may think that breakout success comes from breaking the pattern.', 5)\n"
          ],
          "name": "stdout"
        }
      ]
    },
    {
      "cell_type": "code",
      "metadata": {
        "id": "r_7MyWVLj_CP",
        "colab_type": "code",
        "colab": {
          "base_uri": "https://localhost:8080/",
          "height": 77
        },
        "outputId": "4289916d-38f3-44b5-f335-f97b9fdf1ce7"
      },
      "source": [
        "print(\"Summary: \\n\", summary)"
      ],
      "execution_count": 15,
      "outputs": [
        {
          "output_type": "stream",
          "text": [
            "Summary: \n",
            " Imitate the style of great creatives in your field before you start adding your personal spin to your art. You may think that breakout success comes from breaking the pattern. Studies show that building a community of people around us is essential to achieving world-class success...research demonstrated that an innovator’s network could predict prominence, productivity, and even the length of their career.\n"
          ],
          "name": "stdout"
        }
      ]
    },
    {
      "cell_type": "code",
      "metadata": {
        "id": "2LYA8tDCkBre",
        "colab_type": "code",
        "colab": {}
      },
      "source": [
        "def summarizer(text, tokenizer, max_sent_in_summary=3):\n",
        "    # Create spacy document for further sentence level tokenization\n",
        "    doc = nlp(text_corpus.replace(\"\\n\", \"\"))\n",
        "    sentences = [sent.string.strip() for sent in doc.sents]\n",
        "    # Let's create an organizer which will store the sentence ordering to later reorganize the \n",
        "    # scored sentences in their correct order\n",
        "    sentence_organizer = {k:v for v,k in enumerate(sentences)}\n",
        "    # Let's now create a tf-idf (Term frequnecy Inverse Document Frequency) model\n",
        "    tf_idf_vectorizer = TfidfVectorizer(min_df=2,  max_features=None, \n",
        "                                        strip_accents='unicode', \n",
        "                                        analyzer='word',\n",
        "                                        token_pattern=r'\\w{1,}',\n",
        "                                        ngram_range=(1, 3), \n",
        "                                        use_idf=1,smooth_idf=1,\n",
        "                                        sublinear_tf=1,\n",
        "                                        stop_words = 'english')\n",
        "    # Passing our sentences treating each as one document to TF-IDF vectorizer\n",
        "    tf_idf_vectorizer.fit(sentences)\n",
        "    # Transforming our sentences to TF-IDF vectors\n",
        "    sentence_vectors = tf_idf_vectorizer.transform(sentences)\n",
        "    # Getting sentence scores for each sentences\n",
        "    sentence_scores = np.array(sentence_vectors.sum(axis=1)).ravel()\n",
        "    # Getting top-n sentences\n",
        "    N = max_sent_in_summary\n",
        "    top_n_sentences = [sentences[ind] for ind in np.argsort(sentence_scores, axis=0)[::-1][:N]]\n",
        "    # Let's now do the sentence ordering using our prebaked sentence_organizer\n",
        "    # Let's map the scored sentences with their indexes\n",
        "    mapped_top_n_sentences = [(sentence,sentence_organizer[sentence]) for sentence in top_n_sentences]\n",
        "    # Ordering our top-n sentences in their original ordering\n",
        "    mapped_top_n_sentences = sorted(mapped_top_n_sentences, key = lambda x: x[1])\n",
        "    ordered_scored_sentences = [element[0] for element in mapped_top_n_sentences]\n",
        "    # Our final summary\n",
        "    summary = \" \".join(ordered_scored_sentences)\n",
        "    return summary"
      ],
      "execution_count": 16,
      "outputs": []
    },
    {
      "cell_type": "code",
      "metadata": {
        "id": "VioaMAu0kHX5",
        "colab_type": "code",
        "colab": {
          "base_uri": "https://localhost:8080/",
          "height": 77
        },
        "outputId": "2f1d60dd-3f8c-489e-b380-ee2819cd59be"
      },
      "source": [
        "print(\"Summarizer Result: \\n\", summarizer(text=text_corpus, tokenizer=nlp, max_sent_in_summary=3)"
      ],
      "execution_count": 17,
      "outputs": [
        {
          "output_type": "stream",
          "text": [
            "Summarizer Result: \n",
            " Imitate the style of great creatives in your field before you start adding your personal spin to your art. You may think that breakout success comes from breaking the pattern. Studies show that building a community of people around us is essential to achieving world-class success...research demonstrated that an innovator’s network could predict prominence, productivity, and even the length of their career.\n"
          ],
          "name": "stdout"
        }
      ]
    }
  ]
}